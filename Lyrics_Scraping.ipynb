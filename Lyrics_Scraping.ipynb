{
  "nbformat": 4,
  "nbformat_minor": 0,
  "metadata": {
    "colab": {
      "name": "Lyrics Scraping.ipynb",
      "version": "0.3.2",
      "provenance": [],
      "collapsed_sections": []
    },
    "kernelspec": {
      "name": "python3",
      "display_name": "Python 3"
    }
  },
  "cells": [
    {
      "metadata": {
        "id": "DiT-EFSQ9x1h",
        "colab_type": "code",
        "colab": {}
      },
      "cell_type": "code",
      "source": [
        "!pip install pylyrics3"
      ],
      "execution_count": 0,
      "outputs": []
    },
    {
      "metadata": {
        "id": "Y-JBsQxs9zIq",
        "colab_type": "code",
        "colab": {}
      },
      "cell_type": "code",
      "source": [
        "import pylyrics3\n",
        "lyrics = pylyrics3.get_artist_lyrics('eminem')"
      ],
      "execution_count": 0,
      "outputs": []
    },
    {
      "metadata": {
        "id": "Gy93Yg3y97LT",
        "colab_type": "code",
        "colab": {
          "base_uri": "https://localhost:8080/",
          "height": 54
        },
        "outputId": "6779dc2c-d37b-4d6f-83eb-77ab907cf004"
      },
      "cell_type": "code",
      "source": [
        "lyrics.keys()"
      ],
      "execution_count": 13,
      "outputs": [
        {
          "output_type": "execute_result",
          "data": {
            "text/plain": [
              "dict_keys(['Infinite', 'W.E.G.O.', \"It's OK\", '313', 'Tonite', 'Maxine', 'Open Mic', 'Never 2 Far', \"Searchin'\", 'Backstabber', 'Jealousy Woes II', 'Intro (Slim Shady)', 'Low Down Dirty', 'If I Had', \"Just Don't Give A Fuck\", 'Mommy', 'Just The Two Of Us', \"No One's Iller Than Me\", 'Murder Murder', 'Public Service Announcement', 'My Name Is', 'Guilty Conscience', 'Brain Damage', 'Paul', \"'97 Bonnie & Clyde\", 'Bitch', 'Role Model', 'Lounge', 'My Fault', 'Ken Kaniff#As heard on The Slim Shady LP', 'Cum On Everybody', 'Rock Bottom', 'Soap', 'As The World Turns', \"I'm Shady\", 'Bad Meets Evil', \"Still Don't Give A Fuck\", 'Hazardous Youth', 'Get You Mad', 'Greg', 'Public Service Announcement 2000', 'Kill You', 'Stan', 'Who Knew', 'Steve Berman', 'The Way I Am', 'The Real Slim Shady', 'Remember Me?', \"I'm Back\", 'Marshall Mathers', 'Ken Kaniff#As heard on The Marshall Mathers LP', 'Drug Ballad', 'Amityville', 'Bitch Please II', 'Kim', 'Under The Influence', 'Criminal', 'The Kids', 'Fuck You (Lab Rat Remix)', 'Off The Wall', 'If I Get Locked Up Tonight', 'Stir Crazy', 'Tylenol Island', 'Hellbound', 'Rush Ya Clique', \"It's Murda (Cable Guy Remix)\", 'Thug Luv', 'Our House', 'We Shine', 'Turn Me Loose', 'Fucking Crazy', 'Green And Gold', 'Watch Dees', '3 Verses', 'Fuck Off', 'Hustlers And Hardcore', 'The Anthem', 'Busa Rhyme', 'Flyest Material', '5 Star Generals', 'The Showdown', 'Curtains Up', 'White America', 'Business', \"Cleanin' Out My Closet\", 'Square Dance', 'The Kiss', 'Soldier', 'Say Goodbye Hollywood', 'Drips', 'Without Me', 'Sing For The Moment', 'Superman', \"Hailie's Song\", 'When The Music Stops', 'Say What You Say', \"'Till I Collapse\", \"My Dad's Gone Crazy\", 'Curtains Close', 'Monkey See Monkey Do', 'We Are Americans', 'Love You More', 'Can-I-Bitch', 'Bully', 'Come On In', \"Hailie's Revenge\", 'Stimulate', 'The Conspiracy Freestyle', 'Bump Heads', 'Lose Yourself', 'Nigga', 'The Sauce', 'Renegade', \"It's Only Fair To Warn\", \"She's The One\", 'Three Six Five', 'Rock City', 'Macosa', 'Evil Deeds', 'Never Enough', 'Yellow Brick Road', 'Like Toy Soldiers', 'Mosh', 'Puke', 'My 1st Single', 'Rain Man', 'Big Weenie', 'Em Calls Paul', 'Just Lose It', 'Ass Like That', 'Spend Some Time', 'Mockingbird', 'Crazy In Love', 'One Shot 2 Shot', 'Encore / Curtains Down', 'We As Americans', 'Ricky Ticky Toc', \"Freestyle (Dissin' The Source)\", 'Intro (Curtain Call)', 'Fack', 'Shake That', \"When I'm Gone\", 'Stan (Live)', 'Dr. West (Skit)', '3 A.M.', 'My Mom', 'Insane', 'Bagpipes From Baghdad', 'Hello', 'Tonya', 'Same Song & Dance', 'We Made You', 'Medicine Ball', 'Stay Wide Awake', \"Old Time's Sake\", 'Must Be The Ganja', 'Mr. Mathers', 'Déjà Vu', 'Beautiful', 'Crack A Bottle', 'Underground', 'My Darling', 'Careful What You Wish For', 'Hell Breaks Loose', 'Buffalo Bill', 'Elevator', 'Taking My Ball', 'Music Box', \"Drop The Bomb On 'Em\", 'Cold Wind Blows', \"Talkin' 2 Myself\", 'On Fire', \"Won't Back Down\", 'W.T.P.', 'Going Through Changes', 'Not Afraid', 'Seduction', 'No Love', 'Space Bound', 'Cinderella Man', '25 To Life', 'So Bad', 'Almost Famous', 'Love The Way You Lie', \"You're Never Over\", 'Untitled', 'Ridaz', 'Session One', 'Bad Guy', 'Parking Lot', 'Rhyme Or Reason', 'So Much Better', 'Survival', 'Legacy', 'Asshole', 'Berzerk', 'Rap God', 'Brainless', 'Stronger Than I Was', 'The Monster', 'So Far...', 'Love Game', 'Headlights', 'Evil Twin', 'Baby', 'Desperation', 'Groundhog Day', 'Beautiful Pain', 'Wicked Ways', \"Don't Front\", 'Walk On Water', 'Believe', 'Chloraseptic', 'Untouchable', 'River', 'Remind Me (Intro)', 'Remind Me', 'Revival (Interlude)', 'Like Home', 'Bad Husband', 'Tragic Endings', 'Framed', 'Nowhere Fast', 'Heat', 'Offended', 'Need Me', 'In Your Head', 'Castle', 'Arose', 'The Ringer', 'Greatest', 'Lucky You', 'Normal', 'Stepping Stone', 'Not Alike', 'Fall', 'Kamikaze', 'Nice Guy', 'Good Guy', 'Venom', \"'Til I Collapse Freestyle (50 Cent)\", \"'Till I Collapse Remix\", '(Untitled Hidden Track)', '2.0 Boys', '3 Kings', '3 Questions', '3hree6ix5ive (Detrimental)', '5 Stars General', '50 Ways', '8 Mile Freestyle Battles', '8 Mile Freestyle Pt.II Vs', '8 Mile Freestyle Pt.III Vs', \"8 Mile Freestyle Pt.Ii Vs 'Lotto'\", \"8 Mile Freestyle Pt.Iii Vs 'Papa Doc'\", '8 Mile Freestyle Vs \"Lickty Spilt\"', '8 Mile Movie Trailer (Multimedia Track)', '8 Mile Road', \"8 Mile Runnin' - (Jay Z / Freeway)\", 'A Drop In The Ocean', 'A Kiss', 'Above The Law', \"Ain't Nuttin But Music\", 'All About It', 'Another Sentencing', 'Anyman', 'Armageddon Freestyle', 'Armload Of Awards', 'Artificial Flavor', 'Ass Like That (Edited Version)', 'B-Rabbit V.S Lotto 2nd Battle From 8 Mile', 'B-Rabbit Vs. Papa Doc (Freestyle From 8 Mile)', 'B-Rabit 1st Battle', 'B.G.S In Tha Fast Lane', 'Ballad', \"Ballin' Uncontrollably\", 'Battle - (Gang Starr)', 'Bea', 'Best Rapper Alive', 'Biterphobia', 'Black Juice', 'Bong Song', 'Bonnie & Clyde', 'Bring Your Boys', \"C'mon Let Me Ride\", 'California - (Shaunta)', 'Campaign Speech', 'Carrington Pool', 'Change It All Back', 'Cheddar Bob Freestyle', 'Chemical Warfare', 'Chonkyfire Freestyle', 'Christopher Reeve', 'City Of Gold', 'Cocaine', 'Collapse', \"Comin' Out My Closet (Parody)\", 'Conscience', 'Crackers & Cheese', 'Criminal I', 'Curtains Down', 'D12 Project', 'De The Kiss (Skit)', 'Dead Wrong', \"Dear Marshall (Eminem's Mom)\", 'Deep Cover', 'Demon Inside', 'Despicable', 'Detroit Rap City', 'Die Alone', 'Difficult', 'Diss (Jermaine Dupri)', 'Diss (Ludacris)', 'Doe Rae Me', 'Dream On', 'Drugs Got A Hold Of Me', 'Dudey', 'Early Years', 'Echo', 'Eminem And Dilated Peoples Freestyle', 'Eminem Exclusive Freestyle', 'Eminem Freestyle', 'Eminem Part 1', 'Eminem-Superman', 'Emulate', 'Express Yourself', 'Failed Destiny', 'Family Problems', 'Fastlane', 'Final Battle (From 8 Mile)', 'Fine Line', 'Fly Away', 'For Old Times Sake', \"Forgot About 'Dre\", 'Freestyle III', 'Freestyle II', 'Freestyle IV', 'Freestyle I', 'Freestyle Stretch', 'Freestyle V', 'Fubba U Cubba Cubba', 'Fuck You (Freestyle)', 'G.O.A.T.', 'Gaddafi The Coward', 'Gangsta - (Joe Beast)', 'Get Money Freestyle', 'Get Money', 'Give Me The Ball', 'Going Crazy', 'Going Solo', 'Got Some Teeth', 'Hail Mary 2003 (Ja Rule Diss)', 'Hail Mary', 'Haileys Song', 'Hailie And Me', 'Hello Good Morning Remix', \"Hit Em' Up III\", 'Hit Me With Your Best Shot', 'Human Touch', 'I Can Be', 'I Got This Feelin', 'I Live At Home In A Trailor', 'I Love You More', 'I Remember', 'I Still Dont Give A Fuck', \"I'm Gone\", \"I'm Having A Relapse Freestyle\", \"I'm Having A Relapse\", \"I'm On Everything\", \"I'm Retarded\", 'If I Get Locked Up', 'Insult To Injury', 'Invasion (The Realest)', 'Invasion', 'It Must Be The Ganja', 'It Was Just A Dream', \"It's Been Real\", 'Jealosy Woes', 'Keep Talking', 'Killshot', 'Last Hit', 'Life', 'Living Proof', 'Loud Noises', 'Love To Hate You', 'Ludacris Diss', 'Lunch Truck Freestyle', 'Make Some Noise', 'Microphone Fiend', \"Mile Freestyle Vs 'Lickty Spilt'\", 'Monster', 'Murder Murder (Remix)', 'My Fault (Pizza Mix)', 'My Name Is (Video Version)', 'My Natural Habitat', 'Nail In The Coffin', 'Nail In Your Coffin (Part 1)', 'New Language Freestyle', 'No Ones Iller', 'No Return', \"Nobody's Perfect\", '#One', 'Numb', 'Nut Up', 'Nuttin To Do', \"Nuttin' To Do (Clean Radio Version)\", \"Nuttin' To Do\", 'Off The Dome', 'Oh No', 'On My Own', 'One Last Time', 'One Shot (8 Mile Sundtrack)', 'One Shot', 'Osama Bin Laden Diss', 'Outlet', 'Part II\"', 'Paul Rosenburg (Skit)', 'Peep Show', 'Pick It Up', 'Pills...', 'Pistol Poppin', 'Poo Butt Day', 'Psycho', 'Quitter', 'R.A.K.I.M. - (Rakim)', 'Rabbit Vs Lickilty Split ( 8 Mile Freestlye)', 'Rabbit Vs Lotto ( 8 Mile Freestyle)', 'Rabbit Vs. Papa Doc (Freestyle From 8 Mile)', 'Rap 2K1', 'Rap City Freestyle', 'Rap Name - (Obie Trice)', 'Rap Poets', 'Rap Superstar', 'Rapcity Freestyle', 'Relapse', \"Rhymin' Words Freestyle\", 'Richard', 'Right For Me', 'Rocafella Beat', 'Rockville', \"Roman's Revenge\", 'Say What You Say (Jermaine Dupri Diss)', 'Scary Movies', 'Shady Records Mob Squad', 'Shady Records', 'ShadyXV', 'Shake That Ass For Me Remix', 'She A Lie', 'Shit On You', 'Shots Fired', 'Slim Shade EP', 'Soldier (The Goat Remix 1st Verse)', 'Soldier Like Me', 'Sometimes', 'Stan (Clean Version)', 'Step Right Up', 'Suck My Dick', 'Sweet Home Alabama', 'Syllabes', 'Syllables', 'Take From Me', \"That's My Nigga Fo Real\", 'Thats All She Wrote', 'The 8 Mile Left Behind', 'The Apple', 'The Battle Song', 'The Bong Song', 'The Cypher', 'The Gay I Am (Way I Am Skit)', 'The Night Before Christmas', 'The Presentation', 'The Reunion', 'The Warning', 'The Weekend - (Brooklyn)', \"The World Ain't Ready For Me Yet\", 'Things Get Worse', 'This Is Fucking Bullshit!', 'Topless', 'Tour Aftermath', 'Tragic Ending', 'Tv Total Freestyle 2009', 'Untitled Freestyle', \"Venger's A Big Fat Bitch\", 'Verbal Suicide', 'W.T.P. Remix', 'Wake Up Show Freestyle', 'Wasting My Time - (Bookmat)', 'Way I Am', 'We All Someday', 'We Came To Party', \"We Don't Give A Fuck\", 'We On Fire( Ja Diss)', \"We're Still #1 Freestyle\", \"We're Still\", 'Wee Wee', 'When Im Gone (Remix)', 'When To Stand Up', \"When We're Gone\", \"Where I'm At\", 'Whose Arm Is This (Freestyle)', 'With Smiley (Parody Of Without Me)', 'Without Me/Annotated', 'Worst Come To Worst', \"You'Re Never Over\", 'Zelda', 'Zip-A-Dee-Doo-Dah', 'Zucker Im Kaffee'])"
            ]
          },
          "metadata": {
            "tags": []
          },
          "execution_count": 13
        }
      ]
    },
    {
      "metadata": {
        "id": "73Ry1JW8_CpO",
        "colab_type": "code",
        "colab": {}
      },
      "cell_type": "code",
      "source": [
        "string = ''\n",
        "for song_name in lyrics:\n",
        "  string = string + lyrics[song_name]\n",
        "  string = string + '\\n '"
      ],
      "execution_count": 0,
      "outputs": []
    },
    {
      "metadata": {
        "id": "xGvjAMkuAgfj",
        "colab_type": "code",
        "colab": {
          "base_uri": "https://localhost:8080/",
          "height": 34
        },
        "outputId": "613f40fa-e704-47d1-e563-23afab71e4f6"
      },
      "cell_type": "code",
      "source": [
        "len(string)"
      ],
      "execution_count": 26,
      "outputs": [
        {
          "output_type": "execute_result",
          "data": {
            "text/plain": [
              "1789498"
            ]
          },
          "metadata": {
            "tags": []
          },
          "execution_count": 26
        }
      ]
    },
    {
      "metadata": {
        "id": "TYw5Ggvf_rTD",
        "colab_type": "code",
        "colab": {
          "base_uri": "https://localhost:8080/",
          "height": 34
        },
        "outputId": "317b6e19-76ee-4e1a-bff4-4d98066293ed"
      },
      "cell_type": "code",
      "source": [
        "file = open(\"Eminem.txt\", \"x\")\n",
        "file.write(string)"
      ],
      "execution_count": 27,
      "outputs": [
        {
          "output_type": "execute_result",
          "data": {
            "text/plain": [
              "1789498"
            ]
          },
          "metadata": {
            "tags": []
          },
          "execution_count": 27
        }
      ]
    },
    {
      "metadata": {
        "id": "i10MIbTeApqq",
        "colab_type": "code",
        "colab": {}
      },
      "cell_type": "code",
      "source": [
        "from google.colab import files\n",
        "files.download('Eminem.txt')"
      ],
      "execution_count": 0,
      "outputs": []
    }
  ]
}